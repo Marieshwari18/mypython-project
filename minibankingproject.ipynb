{
 "cells": [
  {
   "cell_type": "code",
   "execution_count": 5,
   "id": "31672f83-611e-48d8-956a-d42260bd4eda",
   "metadata": {},
   "outputs": [
    {
     "name": "stdout",
     "output_type": "stream",
     "text": [
      "***********************************\n",
      "           WELCOME TO TIMING BANK\n",
      "***********************************\n",
      "    welcome to times bank\n",
      "      1.open new account \n",
      "      2.withdraw money \n",
      "      3.deposit money \n",
      "      4.check balance\n"
     ]
    },
    {
     "name": "stdin",
     "output_type": "stream",
     "text": [
      "To you want conitinue the process press yes yes\n",
      "enter the number between 1 to 4 1\n"
     ]
    },
    {
     "name": "stdout",
     "output_type": "stream",
     "text": [
      "create new account\n"
     ]
    },
    {
     "name": "stdin",
     "output_type": "stream",
     "text": [
      "do you want do continue the process press y y\n"
     ]
    },
    {
     "name": "stdout",
     "output_type": "stream",
     "text": [
      "to create new account\n"
     ]
    },
    {
     "name": "stdin",
     "output_type": "stream",
     "text": [
      "enter your full name maris\n",
      "enter pin number your choice 1922\n"
     ]
    },
    {
     "name": "stdout",
     "output_type": "stream",
     "text": [
      "1\n"
     ]
    },
    {
     "name": "stdin",
     "output_type": "stream",
     "text": [
      "enter the value of input starting amount in balance  2000\n"
     ]
    },
    {
     "name": "stdout",
     "output_type": "stream",
     "text": [
      "*******************************\n",
      "account details\n",
      "Account name: maris\n",
      "costomer number: 1\n",
      "pin number: 1922\n",
      "********************************\n"
     ]
    },
    {
     "name": "stdin",
     "output_type": "stream",
     "text": [
      "do you want do continue the process press x e\n"
     ]
    },
    {
     "name": "stdout",
     "output_type": "stream",
     "text": [
      "2\n",
      "1\n"
     ]
    },
    {
     "name": "stdin",
     "output_type": "stream",
     "text": [
      "if you want to continue process press y: y\n",
      "enter the number between 1 to 4 1\n"
     ]
    },
    {
     "name": "stdout",
     "output_type": "stream",
     "text": [
      "create new account\n"
     ]
    },
    {
     "name": "stdin",
     "output_type": "stream",
     "text": [
      "do you want do continue the process press y y\n"
     ]
    },
    {
     "name": "stdout",
     "output_type": "stream",
     "text": [
      "to create new account\n"
     ]
    },
    {
     "name": "stdin",
     "output_type": "stream",
     "text": [
      "enter your full name maris\n",
      "enter pin number your choice 2234\n"
     ]
    },
    {
     "name": "stdout",
     "output_type": "stream",
     "text": [
      "1\n"
     ]
    },
    {
     "name": "stdin",
     "output_type": "stream",
     "text": [
      "enter the value of input starting amount in balance  1000\n"
     ]
    },
    {
     "name": "stdout",
     "output_type": "stream",
     "text": [
      "*******************************\n",
      "account details\n",
      "Account name: maris\n",
      "costomer number: 1\n",
      "pin number: 2234\n",
      "********************************\n"
     ]
    },
    {
     "name": "stdin",
     "output_type": "stream",
     "text": [
      "do you want do continue the process press x g\n"
     ]
    },
    {
     "name": "stdout",
     "output_type": "stream",
     "text": [
      "2\n",
      "1\n"
     ]
    },
    {
     "name": "stdin",
     "output_type": "stream",
     "text": [
      "if you want to continue process press y: b\n"
     ]
    }
   ],
   "source": [
    "def createaccount(i):\n",
    "    \n",
    "          \n",
    "    ch=input(\"do you want do continue the process press y\")\n",
    "    while(ch=='x') or (ch=='y'):\n",
    "        \n",
    "        print(\"to create new account\")\n",
    "        name=input(\"enter your full name\")\n",
    "        pin=int(input(\"enter pin number your choice\"))\n",
    "        costomer=i\n",
    "        pinli.append(pin)\n",
    "        nameli.append(name)\n",
    "         print(costomer)\n",
    "        balance=int(input(\"enter the value of input starting amount in balance \"))\n",
    "        balanceli.append(balance)\n",
    "        print(\"*******************************\")\n",
    "        print(\"account details\")\n",
    "        print(\"Account name:\",name)\n",
    "        print(\"costomer number:\",costomer)\n",
    "        print(\"pin number:\",pin)\n",
    "        print(\"********************************\")\n",
    "        i=i+1\n",
    "        \n",
    "        ch=input(\"do you want do continue the process press x\")\n",
    "    \n",
    "        if(ch!='x'):\n",
    "            return i\n",
    "            break\n",
    "      \n",
    "def withdraw():\n",
    "    pin=int(input(\"enter the pin number\"))\n",
    "    cost=int(input(\"enter coster number\"))\n",
    "    fullname=(input(\"enter the ACOOUNT NAME\"))\n",
    "    if pin==pinli[cost-1] and fullname==nameli[cost-1]:\n",
    "         amount=int(input(\"enter withdraw amount\"))\n",
    "         balance=balanceli[cost-1]\n",
    "         if(amount<=balance):\n",
    "            \n",
    "            balance=balance-amount\n",
    "            balanceli.pop(cost-1)\n",
    "            balanceli.insert(cost-1,balance)\n",
    "            print(\"balance\",balanceli[cost-1])\n",
    "         else:\n",
    "            print(\"insuffient balance\")\n",
    "        \n",
    "    else:\n",
    "        print(\"enter correct details\")\n",
    "        \n",
    "def checkbalance():\n",
    "    balance=balanceli[cost-1]\n",
    "    print(balance)\n",
    "    \n",
    "def deposite():\n",
    "    print(\"************************************\")\n",
    "    if (pin==pinli[cost-1] and fullname==nameli[cost-1]):\n",
    "        \n",
    "        amount=int(input(\"enter deposite amount\"))\n",
    "        balance=balanceli[cost-1]\n",
    "        balance=balance+amount\n",
    "        balanceli.pop(cost-1)\n",
    "        balanceli.insert(cost-1,balance)\n",
    "        print(\"balance:\",balanceli[cost-1])\n",
    "    else:\n",
    "        print(\"enter correct details\")\n",
    "        print(\"*************************************\")\n",
    "\n",
    "print(\"************************************\")\n",
    "print(\"           WELCOME TO TIMING BANK\")\n",
    "print(\"*************************************\")\n",
    "pinli=[]\n",
    "nameli=[]\n",
    "balanceli=[]\n",
    "print(\"    welcome to times bank\")\n",
    "print(\"      1.open new account \")\n",
    "print(\"      2.withdraw money \")\n",
    "print(\"      3.deposit money \")\n",
    "print(\"      4.check balance\")\n",
    "choice=input(\"To you want conitinue the process press yes\")\n",
    "while(choice=='yes' or choice=='y'):\n",
    "    \n",
    "    no=int(input(\"enter the number between 1 to 4\"))\n",
    "    if(no==1):\n",
    "        print(\"create new account\")\n",
    "        print(createaccount(i))\n",
    "        print(i)\n",
    "\n",
    "        \n",
    "    else:\n",
    "        pin=int(input(\"enter the pin number\"))\n",
    "        cost=int(input(\"enter coster number\"))\n",
    "        fullname=(input(\"enter the ACOOUNT NAME\"))\n",
    "        if(no==2):\n",
    "            print(\"withdraw\")\n",
    "            withdraw()\n",
    "        elif(no==3):\n",
    "            print(\"deposite\")\n",
    "            deposite()\n",
    "        elif(no==4):\n",
    "             print(\"check balance\")\n",
    "             checkbalance()\n",
    "    choice=input(\"if you want to continue process press y:\")\n",
    "    if(choice!='y'):\n",
    "         break\n",
    "    \n",
    "  \n",
    "    "
   ]
  },
  {
   "cell_type": "code",
   "execution_count": null,
   "id": "9c3930c1-b5e3-4013-be54-dc2872e09df8",
   "metadata": {},
   "outputs": [],
   "source": []
  },
  {
   "cell_type": "code",
   "execution_count": null,
   "id": "7b77ca4c-6a76-46e6-8afd-62f67c00fcb5",
   "metadata": {},
   "outputs": [],
   "source": []
  },
  {
   "cell_type": "code",
   "execution_count": null,
   "id": "6be0b579-25f1-4415-9db1-a92ff09b3dcf",
   "metadata": {},
   "outputs": [],
   "source": []
  },
  {
   "cell_type": "code",
   "execution_count": null,
   "id": "613915c2-600f-4ad7-9465-c23b0837d569",
   "metadata": {},
   "outputs": [],
   "source": []
  }
 ],
 "metadata": {
  "kernelspec": {
   "display_name": "Python 3 (ipykernel)",
   "language": "python",
   "name": "python3"
  },
  "language_info": {
   "codemirror_mode": {
    "name": "ipython",
    "version": 3
   },
   "file_extension": ".py",
   "mimetype": "text/x-python",
   "name": "python",
   "nbconvert_exporter": "python",
   "pygments_lexer": "ipython3",
   "version": "3.11.7"
  }
 },
 "nbformat": 4,
 "nbformat_minor": 5
}
